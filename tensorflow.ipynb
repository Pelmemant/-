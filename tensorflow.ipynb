{
  "metadata": {
    "kernelspec": {
      "name": "python",
      "display_name": "Python (Pyodide)",
      "language": "python"
    },
    "language_info": {
      "name": ""
    }
  },
  "nbformat_minor": 4,
  "nbformat": 4,
  "cells": [
    {
      "cell_type": "code",
      "source": "import pandas as pd\nimport numpy as np\nimport tensorflow as tf\nfrom tensorflow.keras.models import Model\nfrom tensorflow.keras.layers import Input, Embedding, Concatenate, LSTM, Dense\n\n# Загрузка данных\ndf = pd.read_csv('имена.csv')\n\n# Предположим, что у нас есть столбцы 'слово1', 'слово2', и 'пол'\nwords1 = df['Составляющее 1'].tolist()\nwords2 = df['Составляющее 2'].tolist()\ngenders = df['Пол'].tolist()\nnames = df['Имя'].tolist()\n\n# Уникальные значения\nunique_words = list(set(words1 + words2))\nunique_names = list(set(names))\nunique_genders = list(set(genders))\n\nword_to_idx = {word: i for i, word in enumerate(unique_words)}\nname_to_idx = {name: i for i, name in enumerate(unique_names)}\ngender_to_idx = {gender: i for i, gender in enumerate(unique_genders)}\n\n# Преобразуем слова, пол и имена в индексы\nX_word1 = np.array([word_to_idx[w] for w in words1])\nX_word2 = np.array([word_to_idx[w] for w in words2])\nX_gender = np.array([gender_to_idx[g] for g in genders])\ny = np.array([name_to_idx[n] for n in names])\n\n# Гиперпараметры\nembedding_dim = 128\nhidden_dim = 128\nvocab_size = len(unique_words)\nname_size = len(unique_names)\ngender_size = len(unique_genders)\n\n# Определение модели\nword_input1 = Input(shape=(1,), name='word_input1')\nword_input2 = Input(shape=(1,), name='word_input2')\ngender_input = Input(shape=(1,), name='gender_input')\n\nword_embedding = Embedding(input_dim=vocab_size, output_dim=embedding_dim, input_length=1)\ngender_embedding = Embedding(input_dim=gender_size, output_dim=embedding_dim, input_length=1)\n\nembedded_word1 = word_embedding(word_input1)\nembedded_word2 = word_embedding(word_input2)\nembedded_gender = gender_embedding(gender_input)\n\n# Объединяем эмбеддинги\nmerged = Concatenate(axis=1)([embedded_word1, embedded_word2, embedded_gender])\nlstm_out = LSTM(hidden_dim)(merged)\noutput = Dense(name_size, activation='softmax')(lstm_out)\n\nmodel = Model(inputs=[word_input1, word_input2, gender_input], outputs=output)\nmodel.compile(optimizer='adam', loss='sparse_categorical_crossentropy', metrics=['accuracy'])\n\n# Вывод структуры модели\nmodel.summary()\n\n# Обучение модели\nmodel.fit([X_word1, X_word2, X_gender], y, epochs=50, batch_size=4)\n\n# Генерация имени\ndef generate_name(word1, word2, gender, model, word_to_idx, gender_to_idx, idx_to_name):\n    # Пытаемся достать индексы из слов\n    try:\n        word1_idx = word_to_idx[word1]\n        word2_idx = word_to_idx[word2]\n        gender_idx = gender_to_idx[gender]\n    except KeyError:\n        raise ValueError(\"Одно из слов или пол не найдены в наборе данных.\")\n\n    input_data = [np.array([word1_idx]), np.array([word2_idx]), np.array([gender_idx])]\n    pred = model.predict(input_data)\n    predicted_name_idx = np.argmax(pred, axis=1)[0]\n\n    return idx_to_name[predicted_name_idx]\n\nidx_to_name = {v: k for k, v in name_to_idx.items()}\n\n# Пример использования\nword1 = \"Любовь\"\nword2 = \"Мир\"\ngender = \"Мужской\"\ntry:\n    generated_name = generate_name(word1, word2, gender, model, word_to_idx, gender_to_idx, idx_to_name)\n    print(f'Сгенерированное имя: {generated_name}')\nexcept ValueError as e:\n    print(e)",
      "metadata": {
        "trusted": true
      },
      "outputs": [],
      "execution_count": null
    }
  ]
}