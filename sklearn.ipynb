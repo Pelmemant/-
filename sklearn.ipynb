import pandas as pd
from sklearn.feature_extraction.text import CountVectorizer
from sklearn.model_selection import train_test_split
from sklearn.pipeline import make_pipeline
from sklearn.preprocessing import LabelEncoder
from sklearn.linear_model import LogisticRegression
from sklearn.ensemble import RandomForestClassifier

# Чтение данных из CSV файла
df = pd.read_csv('имена.csv')

# Обработаем данные
X = df[['Составляющее 1', 'Составляющее 2', 'Пол']].astype(str)
y = df['Имя'].astype(str)

# Объединяем два слова и пол в одну строку для обучения модели
X['combined'] = X['Составляющее 1'] + ' ' + X['Составляющее 2'] + ' ' + X['Пол']

# Кодируем имена
label_encoder = LabelEncoder()
y_encoded = label_encoder.fit_transform(y)

# Разбиваем данные на обучающие и тестовые наборы
X_train, X_test, y_train, y_test = train_test_split(X['combined'], y_encoded, test_size=0.2, random_state=42)

# Создаем пайплайн с CountVectorizer и моделью классификации
model = make_pipeline(
    CountVectorizer(),
    RandomForestClassifier(n_estimators=100, random_state=42)
)

# Обучаем модель
model.fit(X_train, y_train)

# Оценка модели
accuracy = model.score(X_test, y_test)
print(f'Accuracy: {accuracy:.2f}')

# Функция предсказания нового имени
def predict_name(word1, word2, gender):
    input_text = f'{word1} {word2} {gender}'
    pred_encoded = model.predict([input_text])[0]
    predicted_name = label_encoder.inverse_transform([pred_encoded])[0]
    return predicted_name

# Пример использования
word1 = "Свет"
word2 = "Слава"
gender = "Мужской"
predicted_name = predict_name(word1, word2, gender)
print(f'Предсказанное имя: {predicted_name}')
