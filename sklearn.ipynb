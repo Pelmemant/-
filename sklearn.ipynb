{
  "metadata": {
    "kernelspec": {
      "name": "python",
      "display_name": "Python (Pyodide)",
      "language": "python"
    },
    "language_info": {
      "name": ""
    }
  },
  "nbformat_minor": 4,
  "nbformat": 4,
  "cells": [
    {
      "cell_type": "code",
      "source": "import pandas as pd\nfrom sklearn.feature_extraction.text import CountVectorizer\nfrom sklearn.model_selection import train_test_split\nfrom sklearn.pipeline import make_pipeline\nfrom sklearn.preprocessing import LabelEncoder\nfrom sklearn.linear_model import LogisticRegression\nfrom sklearn.ensemble import RandomForestClassifier\n\n# Чтение данных из CSV файла\ndf = pd.read_csv('имена.csv')\n\n# Обработаем данные\nX = df[['Составляющее 1', 'Составляющее 2', 'Пол']].astype(str)\ny = df['Имя'].astype(str)\n\n# Объединяем два слова и пол в одну строку для обучения модели\nX['combined'] = X['Составляющее 1'] + ' ' + X['Составляющее 2'] + ' ' + X['Пол']\n\n# Кодируем имена\nlabel_encoder = LabelEncoder()\ny_encoded = label_encoder.fit_transform(y)\n\n# Разбиваем данные на обучающие и тестовые наборы\nX_train, X_test, y_train, y_test = train_test_split(X['combined'], y_encoded, test_size=0.2, random_state=42)\n\n# Создаем пайплайн с CountVectorizer и моделью классификации\nmodel = make_pipeline(\n    CountVectorizer(),\n    RandomForestClassifier(n_estimators=100, random_state=42)\n)\n\n# Обучаем модель\nmodel.fit(X_train, y_train)\n\n# Оценка модели\naccuracy = model.score(X_test, y_test)\nprint(f'Accuracy: {accuracy:.2f}')\n\n# Функция предсказания нового имени\ndef predict_name(word1, word2, gender):\n    input_text = f'{word1} {word2} {gender}'\n    pred_encoded = model.predict([input_text])[0]\n    predicted_name = label_encoder.inverse_transform([pred_encoded])[0]\n    return predicted_name\n\n# Пример использования\nword1 = \"Свет\"\nword2 = \"Слава\"\ngender = \"Мужской\"\npredicted_name = predict_name(word1, word2, gender)\nprint(f'Предсказанное имя: {predicted_name}')",
      "metadata": {
        "trusted": true
      },
      "outputs": [],
      "execution_count": null
    }
  ]
}