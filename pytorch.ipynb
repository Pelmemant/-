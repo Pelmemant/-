{
  "metadata": {
    "kernelspec": {
      "name": "python",
      "display_name": "Python (Pyodide)",
      "language": "python"
    },
    "language_info": {
      "codemirror_mode": {
        "name": "python",
        "version": 3
      },
      "file_extension": ".py",
      "mimetype": "text/x-python",
      "name": "python",
      "nbconvert_exporter": "python",
      "pygments_lexer": "ipython3",
      "version": "3.8"
    }
  },
  "nbformat_minor": 5,
  "nbformat": 4,
  "cells": [
    {
      "id": "ab8d4274-787f-4ed5-821c-946274e26bdf",
      "cell_type": "code",
      "source": "import pandas as pd\nimport torch\nimport torch.nn as nn\nimport torch.optim as optim\nfrom torch.utils.data import Dataset, DataLoader\n\n# Чтение данных из CSV файла\ndf = pd.read_csv('имена.csv')\n\nclass NameDataset(Dataset):\n    def __init__(self, df):\n        self.df = df\n        self.words = list(set(df['Составляющее 1'].tolist() + df['Составляющее 2'].tolist()))\n        self.names = list(set(df['Имя'].tolist()))\n        self.genders = list(set(df['Пол'].tolist()))\n\n        self.word_to_idx = {word: idx for idx, word in enumerate(self.words)}\n        self.name_to_idx = {name: idx for idx, name in enumerate(self.names)}\n        self.gender_to_idx = {gender: idx for idx, gender in enumerate(self.genders)}\n        self.idx_to_name = {idx: name for name, idx in self.name_to_idx.items()}\n\n    def __len__(self):\n        return len(self.df)\n\n    def __getitem__(self, idx):\n        row = self.df.iloc[idx]\n        word1_idx = self.word_to_idx[row['Составляющее 1']]\n        word2_idx = self.word_to_idx[row['Составляющее 2']]\n        gender_idx = self.gender_to_idx[row['Пол']]\n        name_idx = self.name_to_idx[row['Имя']]\n        return torch.tensor([word1_idx, word2_idx, gender_idx], dtype=torch.long), torch.tensor(name_idx, dtype=torch.long)\n\nclass NameGenerator(nn.Module):\n    def __init__(self, vocab_size, gender_size, name_size, embedding_dim, hidden_dim):\n        super(NameGenerator, self).__init__()\n        self.word_embedding = nn.Embedding(vocab_size, embedding_dim)\n        self.gender_embedding = nn.Embedding(gender_size, embedding_dim)\n        self.lstm = nn.LSTM(embedding_dim, hidden_dim, batch_first=True)\n        self.fc = nn.Linear(hidden_dim, name_size)\n\n    def forward(self, x):\n        word_embeds = self.word_embedding(x[:, :2])\n        gender_embeds = self.gender_embedding(x[:, 2].unsqueeze(1))\n\n        # Конкатенация word_embeds и gender_embeds по временной оси\n        combined_embeds = torch.cat((word_embeds, gender_embeds), dim=1)\n\n        _, (hidden, _) = self.lstm(combined_embeds)\n        output = self.fc(hidden[-1])\n        return output\n\n# Параметры\nembedding_dim = 128\nhidden_dim = 128\nnum_epochs = 50\nbatch_size = 4\nlearning_rate = 0.001\n\n# Создание набора данных и загрузчика\ndataset = NameDataset(df)\ndataloader = DataLoader(dataset, batch_size=batch_size, shuffle=True)\n\n# Создание модели\nmodel = NameGenerator(len(dataset.words), len(dataset.genders), len(dataset.names), embedding_dim, hidden_dim)\ncriterion = nn.CrossEntropyLoss()\noptimizer = optim.Adam(model.parameters(), lr=learning_rate)\n\n# Обучение модели\nfor epoch in range(num_epochs):\n    for inputs, targets in dataloader:\n        optimizer.zero_grad()\n        outputs = model(inputs)\n        loss = criterion(outputs, targets)\n        loss.backward()\n        optimizer.step()\n    print(f'Epoch {epoch+1}, Loss: {loss.item()}')\n\n# Функция генерации\ndef generate_name(word1, word2, gender, model, dataset):\n    word1_idx = dataset.word_to_idx.get(word1)\n    word2_idx = dataset.word_to_idx.get(word2)\n    gender_idx = dataset.gender_to_idx.get(gender)\n\n    if word1_idx is None or word2_idx is None or gender_idx is None:\n        raise ValueError(\"Одно или несколько значений не найдены в наборе данных.\")\n\n    input_tensor = torch.tensor([[word1_idx, word2_idx, gender_idx]], dtype=torch.long)\n    with torch.no_grad():\n        output = model(input_tensor)\n        output_idx = torch.argmax(output, dim=1).item()\n\n    return dataset.idx_to_name[output_idx]\n\n# Пример использования\nword1 = \"Любовь\"\nword2 = \"Слава\"\ngender = \"Мужской\"\ntry:\n    generated_name = generate_name(word1, word2, gender, model, dataset)\n    print(f'Сгенерированное имя: {generated_name}')\nexcept ValueError as e:\n    print(e)",
      "metadata": {
        "trusted": true
      },
      "outputs": [],
      "execution_count": null
    }
  ]
}